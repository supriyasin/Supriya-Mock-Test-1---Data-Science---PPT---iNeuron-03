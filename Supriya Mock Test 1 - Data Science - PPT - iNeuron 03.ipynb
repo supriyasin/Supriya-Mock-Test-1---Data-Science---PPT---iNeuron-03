{
 "cells": [
  {
   "cell_type": "code",
   "execution_count": 1,
   "id": "6e003889",
   "metadata": {},
   "outputs": [
    {
     "name": "stdout",
     "output_type": "stream",
     "text": [
      "Mean: 20.0\n"
     ]
    }
   ],
   "source": [
    "#19. Write a function called ‘calculate_mean’ that takes a list of numbers as input and returns the mean (average)\n",
    "of the numbers. The function should calculate the mean using the sum of the numbers divided by the total count.\n",
    "\n",
    "Example:\n",
    "\n",
    "def calculate_mean(numbers):\n",
    "    total = sum(numbers)\n",
    "    count = len(numbers)\n",
    "    mean = total / count\n",
    "    return mean\n",
    "\n",
    "data = [10, 15, 20, 25, 30]\n",
    "mean_value = calculate_mean(data)\n",
    "print(\"Mean:\", mean_value)\n",
    "\n",
    "Output:\n",
    "Mean: 20.0\n",
    "    \n",
    "#Here's the function calculate_mean that calculates the mean (average) of a list of numbers:\n",
    "\n",
    "def calculate_mean(numbers):\n",
    "    total = sum(numbers)\n",
    "    count = len(numbers)\n",
    "    mean = total / count\n",
    "    return mean\n",
    "data = [10, 15, 20, 25, 30]\n",
    "mean_value = calculate_mean(data)\n",
    "print(\"Mean:\", mean_value)\n",
    "\n",
    "\"\"\"The function calculates the sum of the numbers using the sum() function and calculates the count using the len()\n",
    "   function. Then, it divides the total by the count to obtain the mean value, which is returned as the result.\"\"\""
   ]
  },
  {
   "cell_type": "code",
   "execution_count": null,
   "id": "d06eef6c",
   "metadata": {},
   "outputs": [],
   "source": []
  }
 ],
 "metadata": {
  "kernelspec": {
   "display_name": "Python 3 (ipykernel)",
   "language": "python",
   "name": "python3"
  },
  "language_info": {
   "codemirror_mode": {
    "name": "ipython",
    "version": 3
   },
   "file_extension": ".py",
   "mimetype": "text/x-python",
   "name": "python",
   "nbconvert_exporter": "python",
   "pygments_lexer": "ipython3",
   "version": "3.9.12"
  }
 },
 "nbformat": 4,
 "nbformat_minor": 5
}
